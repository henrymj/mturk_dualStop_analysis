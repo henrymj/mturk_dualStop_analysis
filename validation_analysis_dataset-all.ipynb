{
 "cells": [
  {
   "cell_type": "code",
   "execution_count": 1,
   "metadata": {},
   "outputs": [
    {
     "name": "stderr",
     "output_type": "stream",
     "text": [
      "/Users/henrymj/anaconda3/lib/python3.7/site-packages/outdated/utils.py:18: OutdatedPackageWarning: The package outdated is out of date. Your version is 0.2.0, the latest is 0.2.1.\n",
      "Set the environment variable OUTDATED_IGNORE=1 to disable these warnings.\n",
      "  **kwargs\n"
     ]
    }
   ],
   "source": [
    "import numpy as np\n",
    "import pandas as pd\n",
    "import pingouin as pg\n",
    "from scipy import stats\n",
    "\n",
    "import matplotlib.pyplot as plt\n",
    "import seaborn as sns\n",
    "from IPython.display import display\n",
    "\n",
    "from dual_data_utils import make_clean_concat_data\n",
    "from stopsignalmetrics import StopData, SSRTmodel"
   ]
  },
  {
   "cell_type": "markdown",
   "metadata": {},
   "source": [
    "# Read in and Compute Metrics on Data"
   ]
  },
  {
   "cell_type": "code",
   "execution_count": 2,
   "metadata": {},
   "outputs": [],
   "source": [
    "dataset='all'"
   ]
  },
  {
   "cell_type": "code",
   "execution_count": 3,
   "metadata": {},
   "outputs": [],
   "source": [
    "OUTLIER_THRESH  = 3\n",
    "SSD_THRESH = 200\n",
    "\n",
    "dual_dict = {\n",
    "    'stop_signal_with_cued_task_switching': {\n",
    "        'dual_col': 'cue_task_switch',\n",
    "        'DC': 'cue_stay_task_stay',\n",
    "        'DE': 'cue_switch_task_switch',\n",
    "        'OTHER': ['cue_switch_task_stay']\n",
    "    },\n",
    "    'stop_signal_with_directed_forgetting': {\n",
    "        'dual_col': 'directed_forgetting_condition',\n",
    "        'DC': 'con',\n",
    "        'DE': 'neg',\n",
    "        'OTHER': ['pos']\n",
    "    },\n",
    "    'stop_signal_with_flanker': {\n",
    "        'dual_col': 'flanker_condition',\n",
    "        'DC': 'congruent',\n",
    "        'DE': 'incongruent'\n",
    "    },\n",
    "    'stop_signal_with_go_no_go': {\n",
    "        'dual_col': 'go_nogo_condition',\n",
    "        'DC': 'go',\n",
    "        'DE': 'nogo'\n",
    "    },\n",
    "    'stop_signal_with_n_back': {\n",
    "        'dual_col': 'delay_condition',\n",
    "        'DC': 1.,\n",
    "        'DE': 2.,\n",
    "        'OTHER': [3.]\n",
    "    },\n",
    "    'stop_signal_with_predictable_task_switching': {\n",
    "        'dual_col': 'predictable_condition',\n",
    "        'DC': 'stay',\n",
    "        'DE': 'switch'\n",
    "    },\n",
    "    'stop_signal_with_shape_matching': {\n",
    "        'dual_col': 'shape_matching_condition',\n",
    "        'DC': 'CONTROL',\n",
    "        'DE': 'DISTRACTOR',\n",
    "        'OTHER': ['DSD', 'SSS']\n",
    "    },\n",
    "}\n",
    "\n",
    "stopmetrics_var_dict = {\n",
    "    'columns': {\n",
    "        'ID': 'worker_id',\n",
    "        'block': 'current_block',\n",
    "        'condition': 'SS_trial_type',\n",
    "        'SSD': 'SS_delay',\n",
    "        'goRT': 'rt',\n",
    "        'stopRT': 'rt',\n",
    "        'response': 'key_press',\n",
    "        'correct_response': 'choice_correct_response',\n",
    "        'choice_accuracy': 'choice_accuracy'},\n",
    "    'key_codes': {\n",
    "        'go': 'go',\n",
    "        'stop': 'stop',\n",
    "        'correct': 1,\n",
    "        'incorrect': 0,\n",
    "        'noResponse': -1}}"
   ]
  },
  {
   "cell_type": "code",
   "execution_count": 4,
   "metadata": {},
   "outputs": [],
   "source": [
    "def get_query_str(col, condition):\n",
    "    if type(condition)==str:\n",
    "        return \"%s=='%s'\" % (col, condition)\n",
    "    elif type(condition) in [float, int]:\n",
    "        return \"%s==%s\" % (col, condition)\n",
    "    elif type(condition)==list:\n",
    "        return \"%s in %s\" % (col, condition)\n",
    "\n",
    "def stop_summarize(curr_data, thresh=SSD_THRESH, query_str=None):\n",
    "    data_df = curr_data.query(query_str) if query_str is not None else curr_data\n",
    "    \n",
    "    sum_df = SSRTmodel().fit_transform(data_df, level='group')\n",
    "    sum_df_threshSSDs = SSRTmodel().fit_transform(data_df.query(f'SSD>={thresh} or condition==\"go\"'), level='group').add_suffix('_wThresh_SSDs')\n",
    "    sum_df_threshSubs = sum_df.query(f\"mean_SSD >= {thresh}\").add_suffix('_wThresh_subs')\n",
    "    return pd.concat([sum_df, sum_df_threshSSDs, sum_df_threshSubs],\n",
    "                       1,\n",
    "                       sort=True\n",
    "                      )\n",
    "\n",
    "def get_inhib_func(curr_data, cond):\n",
    "    inhib_df = pd.DataFrame(curr_data.groupby(['ID', 'SSD']).apply(lambda x: x.stopRT.notnull().sum()/len(x))).reset_index()\n",
    "    inhib_df['condition'] = cond\n",
    "    return inhib_df\n",
    "\n",
    "def get_gng_presp(curr_data):\n",
    "    curr_data = curr_data.copy()\n",
    "    stop_trials = curr_data.query(\"stop_signal_condition=='stop'\")\n",
    "    out={}\n",
    "    out['p_resp'] = (stop_trials.rt != -1).sum()/len(stop_trials)\n",
    "    out['p_resp_go'] = (stop_trials.query(\"go_nogo_condition=='go'\").rt != -1).sum()/len(stop_trials.query(\"go_nogo_condition=='go'\"))\n",
    "    out['p_resp_nogo'] = (stop_trials.query(\"go_nogo_condition=='nogo'\").rt != -1).sum()/len(stop_trials.query(\"go_nogo_condition=='nogo'\"))\n",
    "    return out"
   ]
  },
  {
   "cell_type": "code",
   "execution_count": 5,
   "metadata": {},
   "outputs": [],
   "source": [
    "stop_data_dict = make_clean_concat_data(stop_subset=True, dataset=dataset)"
   ]
  },
  {
   "cell_type": "markdown",
   "metadata": {},
   "source": [
    "# Check P(resp|signal) in Go/NoGo "
   ]
  },
  {
   "cell_type": "code",
   "execution_count": 6,
   "metadata": {},
   "outputs": [
    {
     "data": {
      "text/html": [
       "<div>\n",
       "<style scoped>\n",
       "    .dataframe tbody tr th:only-of-type {\n",
       "        vertical-align: middle;\n",
       "    }\n",
       "\n",
       "    .dataframe tbody tr th {\n",
       "        vertical-align: top;\n",
       "    }\n",
       "\n",
       "    .dataframe thead th {\n",
       "        text-align: right;\n",
       "    }\n",
       "</style>\n",
       "<table border=\"1\" class=\"dataframe\">\n",
       "  <thead>\n",
       "    <tr style=\"text-align: right;\">\n",
       "      <th></th>\n",
       "      <th>p_resp</th>\n",
       "      <th>p_resp_go</th>\n",
       "      <th>p_resp_nogo</th>\n",
       "    </tr>\n",
       "  </thead>\n",
       "  <tbody>\n",
       "    <tr>\n",
       "      <th>count</th>\n",
       "      <td>66.000000</td>\n",
       "      <td>66.000000</td>\n",
       "      <td>66.000000</td>\n",
       "    </tr>\n",
       "    <tr>\n",
       "      <th>mean</th>\n",
       "      <td>0.432576</td>\n",
       "      <td>0.501515</td>\n",
       "      <td>0.018939</td>\n",
       "    </tr>\n",
       "    <tr>\n",
       "      <th>std</th>\n",
       "      <td>0.015505</td>\n",
       "      <td>0.015738</td>\n",
       "      <td>0.049432</td>\n",
       "    </tr>\n",
       "    <tr>\n",
       "      <th>min</th>\n",
       "      <td>0.371429</td>\n",
       "      <td>0.433333</td>\n",
       "      <td>0.000000</td>\n",
       "    </tr>\n",
       "    <tr>\n",
       "      <th>25%</th>\n",
       "      <td>0.428571</td>\n",
       "      <td>0.493750</td>\n",
       "      <td>0.000000</td>\n",
       "    </tr>\n",
       "    <tr>\n",
       "      <th>50%</th>\n",
       "      <td>0.432143</td>\n",
       "      <td>0.500000</td>\n",
       "      <td>0.000000</td>\n",
       "    </tr>\n",
       "    <tr>\n",
       "      <th>75%</th>\n",
       "      <td>0.442857</td>\n",
       "      <td>0.508333</td>\n",
       "      <td>0.000000</td>\n",
       "    </tr>\n",
       "    <tr>\n",
       "      <th>max</th>\n",
       "      <td>0.471429</td>\n",
       "      <td>0.525000</td>\n",
       "      <td>0.300000</td>\n",
       "    </tr>\n",
       "  </tbody>\n",
       "</table>\n",
       "</div>"
      ],
      "text/plain": [
       "          p_resp  p_resp_go  p_resp_nogo\n",
       "count  66.000000  66.000000    66.000000\n",
       "mean    0.432576   0.501515     0.018939\n",
       "std     0.015505   0.015738     0.049432\n",
       "min     0.371429   0.433333     0.000000\n",
       "25%     0.428571   0.493750     0.000000\n",
       "50%     0.432143   0.500000     0.000000\n",
       "75%     0.442857   0.508333     0.000000\n",
       "max     0.471429   0.525000     0.300000"
      ]
     },
     "execution_count": 6,
     "metadata": {},
     "output_type": "execute_result"
    }
   ],
   "source": [
    "gng_presp_data = pd.DataFrame(list(stop_data_dict['stop_signal_with_go_no_go'].groupby('worker_id').apply(get_gng_presp)))\n",
    "gng_presp_data.describe()"
   ]
  },
  {
   "cell_type": "code",
   "execution_count": 7,
   "metadata": {},
   "outputs": [],
   "source": [
    "del stop_data_dict['stop_signal_with_go_no_go']"
   ]
  },
  {
   "cell_type": "markdown",
   "metadata": {},
   "source": [
    "# Get SSRT metrics for remaining tasks"
   ]
  },
  {
   "cell_type": "code",
   "execution_count": 8,
   "metadata": {},
   "outputs": [],
   "source": [
    "# build dict\n",
    "ssrtc_out = {}\n",
    "for task_name in stop_data_dict.keys():  # [k for k in stop_data_dict.keys()][:1]:  # development loop using just 1st task\n",
    "    curr_data = StopData(stopmetrics_var_dict).fit_transform(stop_data_dict[task_name].drop(columns=['correct_response']))\n",
    "    short_name = task_name.split('_with_')[-1]\n",
    "    ssrtc_out[short_name] = stop_summarize(curr_data)\n",
    "    \n",
    "    if 'with' in task_name:\n",
    "        dual_col = dual_dict[task_name]['dual_col']\n",
    "        for key in [k for k in dual_dict[task_name] if k!='dual_col']:\n",
    "            query_str = get_query_str(dual_col, dual_dict[task_name][key])\n",
    "            ssrtc_out['%s_%s' % (short_name,key)] = stop_summarize(\n",
    "                curr_data,\n",
    "                query_str=query_str\n",
    "            )\n",
    "\n",
    "ssrtc_out['SE'] = ssrtc_out.pop('stop_signal_single_task_network')\n",
    "metrics = [c for c in ssrtc_out['SE'].columns if 'max_RT' not in c]\n",
    "\n",
    "#flatten data, remove outliers w/ values > 3 SDs from the mean\n",
    "flattened_data = pd.concat([ssrtc_out[k].add_prefix(k+'_') for k in ssrtc_out], axis=1, sort=True)\n",
    "flattened_data = flattened_data.filter(regex='SE|DC|DE', axis=1)\n",
    "z_df = flattened_data.apply(stats.zscore).apply(np.abs)\n",
    "flattened_data[z_df>OUTLIER_THRESH] = None\n",
    "flattened_data.index.name='ID'\n",
    "\n",
    "\n",
    "\n",
    "SSRTs = flattened_data.loc[:, ~flattened_data.columns.str.contains(\"wThresh\")].filter(regex='SSRT')\n",
    "SSRTs_ThreshSSDs = flattened_data.loc[:, flattened_data.columns.str.contains(\"wThresh_SSDs\")].filter(regex='SSRT')\n",
    "SSRTs_ThreshSubs = flattened_data.loc[:, flattened_data.columns.str.contains(\"wThresh_subs\")].filter(regex='SSRT')"
   ]
  },
  {
   "cell_type": "markdown",
   "metadata": {},
   "source": [
    "# Validation Analyses"
   ]
  },
  {
   "cell_type": "code",
   "execution_count": 9,
   "metadata": {},
   "outputs": [
    {
     "name": "stdout",
     "output_type": "stream",
     "text": [
      "4 subs dropped for nan cell\n"
     ]
    }
   ],
   "source": [
    "old_nSubs = len(SSRTs)\n",
    "SSRTs = SSRTs.dropna()\n",
    "new_nSubs = len(SSRTs)\n",
    "print(f'{old_nSubs-new_nSubs} subs dropped for nan cell')"
   ]
  },
  {
   "cell_type": "markdown",
   "metadata": {},
   "source": [
    "# One-way Anova"
   ]
  },
  {
   "cell_type": "code",
   "execution_count": 10,
   "metadata": {},
   "outputs": [
    {
     "data": {
      "text/html": [
       "<div>\n",
       "<style scoped>\n",
       "    .dataframe tbody tr th:only-of-type {\n",
       "        vertical-align: middle;\n",
       "    }\n",
       "\n",
       "    .dataframe tbody tr th {\n",
       "        vertical-align: top;\n",
       "    }\n",
       "\n",
       "    .dataframe thead th {\n",
       "        text-align: right;\n",
       "    }\n",
       "</style>\n",
       "<table border=\"1\" class=\"dataframe\">\n",
       "  <thead>\n",
       "    <tr style=\"text-align: right;\">\n",
       "      <th></th>\n",
       "      <th>cued_task_switching</th>\n",
       "      <th>SE</th>\n",
       "      <th>directed_forgetting</th>\n",
       "      <th>flanker</th>\n",
       "      <th>predictable_task_switching</th>\n",
       "      <th>n_back</th>\n",
       "      <th>shape_matching</th>\n",
       "    </tr>\n",
       "    <tr>\n",
       "      <th>ID</th>\n",
       "      <th></th>\n",
       "      <th></th>\n",
       "      <th></th>\n",
       "      <th></th>\n",
       "      <th></th>\n",
       "      <th></th>\n",
       "      <th></th>\n",
       "    </tr>\n",
       "  </thead>\n",
       "  <tbody>\n",
       "    <tr>\n",
       "      <th>s005</th>\n",
       "      <td>205.25</td>\n",
       "      <td>170.166667</td>\n",
       "      <td>316.25</td>\n",
       "      <td>205.00</td>\n",
       "      <td>209.25</td>\n",
       "      <td>196.016129</td>\n",
       "      <td>189.666667</td>\n",
       "    </tr>\n",
       "    <tr>\n",
       "      <th>s009</th>\n",
       "      <td>168.00</td>\n",
       "      <td>193.916667</td>\n",
       "      <td>296.00</td>\n",
       "      <td>208.25</td>\n",
       "      <td>221.75</td>\n",
       "      <td>248.219758</td>\n",
       "      <td>219.333333</td>\n",
       "    </tr>\n",
       "    <tr>\n",
       "      <th>s010</th>\n",
       "      <td>271.25</td>\n",
       "      <td>254.083333</td>\n",
       "      <td>351.75</td>\n",
       "      <td>267.50</td>\n",
       "      <td>257.75</td>\n",
       "      <td>267.629032</td>\n",
       "      <td>317.250000</td>\n",
       "    </tr>\n",
       "    <tr>\n",
       "      <th>s019</th>\n",
       "      <td>257.00</td>\n",
       "      <td>233.666667</td>\n",
       "      <td>366.00</td>\n",
       "      <td>243.75</td>\n",
       "      <td>261.00</td>\n",
       "      <td>197.663734</td>\n",
       "      <td>294.833333</td>\n",
       "    </tr>\n",
       "    <tr>\n",
       "      <th>s025</th>\n",
       "      <td>325.25</td>\n",
       "      <td>247.500000</td>\n",
       "      <td>392.00</td>\n",
       "      <td>295.50</td>\n",
       "      <td>301.50</td>\n",
       "      <td>307.663306</td>\n",
       "      <td>316.583333</td>\n",
       "    </tr>\n",
       "  </tbody>\n",
       "</table>\n",
       "</div>"
      ],
      "text/plain": [
       "      cued_task_switching          SE  directed_forgetting  flanker  \\\n",
       "ID                                                                    \n",
       "s005               205.25  170.166667               316.25   205.00   \n",
       "s009               168.00  193.916667               296.00   208.25   \n",
       "s010               271.25  254.083333               351.75   267.50   \n",
       "s019               257.00  233.666667               366.00   243.75   \n",
       "s025               325.25  247.500000               392.00   295.50   \n",
       "\n",
       "      predictable_task_switching      n_back  shape_matching  \n",
       "ID                                                            \n",
       "s005                      209.25  196.016129      189.666667  \n",
       "s009                      221.75  248.219758      219.333333  \n",
       "s010                      257.75  267.629032      317.250000  \n",
       "s019                      261.00  197.663734      294.833333  \n",
       "s025                      301.50  307.663306      316.583333  "
      ]
     },
     "execution_count": 10,
     "metadata": {},
     "output_type": "execute_result"
    }
   ],
   "source": [
    "SSRTs_taskMeaned = pd.DataFrame()\n",
    "for task_name in stop_data_dict.keys():\n",
    "    short_name = task_name.split('_with_')[-1]\n",
    "    if short_name == 'stop_signal_single_task_network':\n",
    "        SSRTs_taskMeaned['SE'] = SSRTs.filter(regex='SE')\n",
    "    else:\n",
    "        SSRTs_taskMeaned[short_name] = SSRTs.filter(regex=short_name).mean(1)\n",
    "SSRTs_taskMeaned.head()"
   ]
  },
  {
   "cell_type": "code",
   "execution_count": 11,
   "metadata": {},
   "outputs": [
    {
     "data": {
      "text/html": [
       "<div>\n",
       "<style scoped>\n",
       "    .dataframe tbody tr th:only-of-type {\n",
       "        vertical-align: middle;\n",
       "    }\n",
       "\n",
       "    .dataframe tbody tr th {\n",
       "        vertical-align: top;\n",
       "    }\n",
       "\n",
       "    .dataframe thead th {\n",
       "        text-align: right;\n",
       "    }\n",
       "</style>\n",
       "<table border=\"1\" class=\"dataframe\">\n",
       "  <thead>\n",
       "    <tr style=\"text-align: right;\">\n",
       "      <th></th>\n",
       "      <th>ID</th>\n",
       "      <th>variable</th>\n",
       "      <th>value</th>\n",
       "    </tr>\n",
       "  </thead>\n",
       "  <tbody>\n",
       "    <tr>\n",
       "      <th>0</th>\n",
       "      <td>s005</td>\n",
       "      <td>cued_task_switching</td>\n",
       "      <td>205.250000</td>\n",
       "    </tr>\n",
       "    <tr>\n",
       "      <th>1</th>\n",
       "      <td>s009</td>\n",
       "      <td>cued_task_switching</td>\n",
       "      <td>168.000000</td>\n",
       "    </tr>\n",
       "    <tr>\n",
       "      <th>2</th>\n",
       "      <td>s010</td>\n",
       "      <td>cued_task_switching</td>\n",
       "      <td>271.250000</td>\n",
       "    </tr>\n",
       "    <tr>\n",
       "      <th>3</th>\n",
       "      <td>s019</td>\n",
       "      <td>cued_task_switching</td>\n",
       "      <td>257.000000</td>\n",
       "    </tr>\n",
       "    <tr>\n",
       "      <th>4</th>\n",
       "      <td>s025</td>\n",
       "      <td>cued_task_switching</td>\n",
       "      <td>325.250000</td>\n",
       "    </tr>\n",
       "    <tr>\n",
       "      <th>...</th>\n",
       "      <td>...</td>\n",
       "      <td>...</td>\n",
       "      <td>...</td>\n",
       "    </tr>\n",
       "    <tr>\n",
       "      <th>429</th>\n",
       "      <td>s528</td>\n",
       "      <td>shape_matching</td>\n",
       "      <td>288.666667</td>\n",
       "    </tr>\n",
       "    <tr>\n",
       "      <th>430</th>\n",
       "      <td>s539</td>\n",
       "      <td>shape_matching</td>\n",
       "      <td>245.916667</td>\n",
       "    </tr>\n",
       "    <tr>\n",
       "      <th>431</th>\n",
       "      <td>s541</td>\n",
       "      <td>shape_matching</td>\n",
       "      <td>198.500000</td>\n",
       "    </tr>\n",
       "    <tr>\n",
       "      <th>432</th>\n",
       "      <td>s548</td>\n",
       "      <td>shape_matching</td>\n",
       "      <td>305.416667</td>\n",
       "    </tr>\n",
       "    <tr>\n",
       "      <th>433</th>\n",
       "      <td>s560</td>\n",
       "      <td>shape_matching</td>\n",
       "      <td>280.916667</td>\n",
       "    </tr>\n",
       "  </tbody>\n",
       "</table>\n",
       "<p>434 rows × 3 columns</p>\n",
       "</div>"
      ],
      "text/plain": [
       "       ID             variable       value\n",
       "0    s005  cued_task_switching  205.250000\n",
       "1    s009  cued_task_switching  168.000000\n",
       "2    s010  cued_task_switching  271.250000\n",
       "3    s019  cued_task_switching  257.000000\n",
       "4    s025  cued_task_switching  325.250000\n",
       "..    ...                  ...         ...\n",
       "429  s528       shape_matching  288.666667\n",
       "430  s539       shape_matching  245.916667\n",
       "431  s541       shape_matching  198.500000\n",
       "432  s548       shape_matching  305.416667\n",
       "433  s560       shape_matching  280.916667\n",
       "\n",
       "[434 rows x 3 columns]"
      ]
     },
     "execution_count": 11,
     "metadata": {},
     "output_type": "execute_result"
    }
   ],
   "source": [
    "melted_SSRTs = SSRTs_taskMeaned.reset_index().melt(id_vars='ID')\n",
    "melted_SSRTs"
   ]
  },
  {
   "cell_type": "code",
   "execution_count": 12,
   "metadata": {},
   "outputs": [
    {
     "data": {
      "text/html": [
       "<div>\n",
       "<style scoped>\n",
       "    .dataframe tbody tr th:only-of-type {\n",
       "        vertical-align: middle;\n",
       "    }\n",
       "\n",
       "    .dataframe tbody tr th {\n",
       "        vertical-align: top;\n",
       "    }\n",
       "\n",
       "    .dataframe thead th {\n",
       "        text-align: right;\n",
       "    }\n",
       "</style>\n",
       "<table border=\"1\" class=\"dataframe\">\n",
       "  <thead>\n",
       "    <tr style=\"text-align: right;\">\n",
       "      <th></th>\n",
       "      <th>Source</th>\n",
       "      <th>SS</th>\n",
       "      <th>DF</th>\n",
       "      <th>MS</th>\n",
       "      <th>F</th>\n",
       "      <th>p-unc</th>\n",
       "      <th>p-GG-corr</th>\n",
       "      <th>np2</th>\n",
       "      <th>eps</th>\n",
       "      <th>sphericity</th>\n",
       "      <th>W-spher</th>\n",
       "      <th>p-spher</th>\n",
       "    </tr>\n",
       "  </thead>\n",
       "  <tbody>\n",
       "    <tr>\n",
       "      <th>0</th>\n",
       "      <td>variable</td>\n",
       "      <td>539861.556533</td>\n",
       "      <td>6</td>\n",
       "      <td>89976.926089</td>\n",
       "      <td>61.618387</td>\n",
       "      <td>1.404841e-52</td>\n",
       "      <td>1.827532e-38</td>\n",
       "      <td>0.502522</td>\n",
       "      <td>0.717448</td>\n",
       "      <td>False</td>\n",
       "      <td>0.295356</td>\n",
       "      <td>9.982616e-08</td>\n",
       "    </tr>\n",
       "    <tr>\n",
       "      <th>1</th>\n",
       "      <td>Error</td>\n",
       "      <td>534443.637953</td>\n",
       "      <td>366</td>\n",
       "      <td>1460.228519</td>\n",
       "      <td>NaN</td>\n",
       "      <td>NaN</td>\n",
       "      <td>NaN</td>\n",
       "      <td>NaN</td>\n",
       "      <td>NaN</td>\n",
       "      <td>NaN</td>\n",
       "      <td>NaN</td>\n",
       "      <td>NaN</td>\n",
       "    </tr>\n",
       "  </tbody>\n",
       "</table>\n",
       "</div>"
      ],
      "text/plain": [
       "     Source             SS   DF            MS          F         p-unc  \\\n",
       "0  variable  539861.556533    6  89976.926089  61.618387  1.404841e-52   \n",
       "1     Error  534443.637953  366   1460.228519        NaN           NaN   \n",
       "\n",
       "      p-GG-corr       np2       eps sphericity   W-spher       p-spher  \n",
       "0  1.827532e-38  0.502522  0.717448      False  0.295356  9.982616e-08  \n",
       "1           NaN       NaN       NaN        NaN       NaN           NaN  "
      ]
     },
     "execution_count": 12,
     "metadata": {},
     "output_type": "execute_result"
    }
   ],
   "source": [
    "anova_res = pg.rm_anova(data=melted_SSRTs, dv='value', within='variable', subject='ID', detailed=True)\n",
    "anova_res"
   ]
  },
  {
   "cell_type": "markdown",
   "metadata": {},
   "source": [
    "## Planned Contrasts\n",
    "\n",
    "Guidelines from [here](http://web.pdx.edu/~newsomj/uvclass/ho_planned%20contrasts.pdf)"
   ]
  },
  {
   "cell_type": "code",
   "execution_count": 13,
   "metadata": {},
   "outputs": [],
   "source": [
    "df = anova_res.loc[anova_res.Source=='Error', 'DF'].values[0]"
   ]
  },
  {
   "cell_type": "code",
   "execution_count": 14,
   "metadata": {},
   "outputs": [
    {
     "data": {
      "text/plain": [
       "6.8632460085675655"
      ]
     },
     "execution_count": 14,
     "metadata": {},
     "output_type": "execute_result"
    }
   ],
   "source": [
    "MS = anova_res.loc[anova_res.Source=='Error', 'MS'].values[0]\n",
    "std_err = np.sqrt(MS * (2/len(SSRTs)))\n",
    "std_err"
   ]
  },
  {
   "cell_type": "code",
   "execution_count": 15,
   "metadata": {},
   "outputs": [
    {
     "name": "stdout",
     "output_type": "stream",
     "text": [
      "directed_forgetting: Mean=111.27, t=16.213, p=0.000000, d=1.61\n",
      "n_back: Mean=36.80, t=5.361, p=0.000000, d=0.65\n",
      "cued_task_switching: Mean=22.60, t=3.293, p=0.000544, d=0.42\n",
      "shape_matching: Mean=31.70, t=4.620, p=0.000003, d=0.75\n"
     ]
    }
   ],
   "source": [
    "for task in ['directed_forgetting', 'n_back', 'cued_task_switching', 'shape_matching']:\n",
    "    diff = np.mean(SSRTs_taskMeaned.filter(regex=task).values - SSRTs_taskMeaned.filter(regex='SE').values)\n",
    "    t = diff/std_err\n",
    "    pval = stats.t.sf(t, df) \n",
    "    print(f'{task}: Mean={diff:.2f}, t={t:.3f}, p={pval:.6f}, d={diff/ np.std(SSRTs_taskMeaned.filter(regex=task).values - SSRTs_taskMeaned.filter(regex=\"SE\").values):.2f}')"
   ]
  },
  {
   "cell_type": "markdown",
   "metadata": {},
   "source": [
    "## Planned related-samples t-test for n-Back load"
   ]
  },
  {
   "cell_type": "code",
   "execution_count": 16,
   "metadata": {},
   "outputs": [],
   "source": [
    "diff_SSRTs = SSRTs.sub(SSRTs.filter(regex='SE').values)\n",
    "del diff_SSRTs['SE_SSRT']"
   ]
  },
  {
   "cell_type": "code",
   "execution_count": 17,
   "metadata": {},
   "outputs": [
    {
     "name": "stdout",
     "output_type": "stream",
     "text": [
      "n-Back DE > DC: Mean=29.55, t=3.519, p=0.000413, d=0.45\n"
     ]
    }
   ],
   "source": [
    "t, pval = stats.ttest_rel(diff_SSRTs.n_back_DE_SSRT.values, diff_SSRTs.n_back_DC_SSRT.values, nan_policy='raise', alternative='greater')\n",
    "diff_vals = diff_SSRTs.n_back_DE_SSRT.values - diff_SSRTs.n_back_DC_SSRT.values\n",
    "print(f'n-Back DE > DC: Mean={np.mean(diff_vals):.2f}, t={t:.3f}, p={pval:.6f}, d={np.mean(diff_vals)/np.std(diff_vals):.2}')"
   ]
  },
  {
   "cell_type": "markdown",
   "metadata": {},
   "source": [
    "# Visualize"
   ]
  },
  {
   "cell_type": "code",
   "execution_count": 18,
   "metadata": {},
   "outputs": [],
   "source": [
    "formal_tasks = {\n",
    "    'All': 'All',\n",
    "    'single_task': 'Single Task',\n",
    "    'go_no_go': 'Go/No-Go',\n",
    "    'predictable_task_switching': 'Predictable Task Switching',\n",
    "    'cued_task_switching': 'Cued Task Switching',\n",
    "    'flanker': 'Flanker',\n",
    "    'shape_matching': 'Shape Matching',\n",
    "    'n_back': 'n-Back',\n",
    "    'directed_forgetting': 'Directed Forgetting' \n",
    "}"
   ]
  },
  {
   "cell_type": "code",
   "execution_count": 19,
   "metadata": {},
   "outputs": [],
   "source": [
    "sns.set(style=\"whitegrid\", palette=\"colorblind\", color_codes=True)\n",
    "palette ={\"DC\":\"C0\", \"DE\":\"C1\", \"SE\":\"C2\"}\n",
    "order_dict = {\n",
    "    'SE': 'aa',\n",
    "    'go_no_go': 'ab',\n",
    "    'predictable_task_switching': 'ba',\n",
    "    'cued_task_switching': 'bb',\n",
    "    'flanker': 'ca',\n",
    "    'shape_matching': 'cb',\n",
    "    'n_back': 'da',\n",
    "    'directed_forgetting': 'db'\n",
    "}\n",
    "\n",
    "def context_str(string):\n",
    "    if 'DC' in string:\n",
    "        return 'DC'\n",
    "    elif 'DE' in string:\n",
    "        return 'DE'\n",
    "    elif 'SE' in string:\n",
    "        return 'SE'\n",
    "    elif 'OTHER' in string:\n",
    "        return 'POS/3BACK/DSD|SSS/CUE_SWITCH'\n",
    "    else:\n",
    "        return 'COMBINE'"
   ]
  },
  {
   "cell_type": "code",
   "execution_count": 20,
   "metadata": {},
   "outputs": [],
   "source": [
    "melted_diffs = diff_SSRTs.reset_index().melt(id_vars='ID', value_name='Dual Task SSRT - Single Task SSRT')\n",
    "melted_diffs['Task'] = [i.split('_SSRT')[0].replace('_DC', '').replace('_DE', '') for i in melted_diffs['variable']]\n",
    "melted_diffs['Trial Type'] = [context_str(i) for i in melted_diffs['variable']]\n",
    "melted_diffs.loc[melted_diffs['Task']=='SE', 'context'] = 'SE'\n",
    "\n",
    "melted_diffs['order'] = melted_diffs['Task'].map(order_dict)\n",
    "melted_diffs = melted_diffs.sort_values(['order', 'Trial Type'])\n",
    "melted_diffs['Task'] = melted_diffs['Task'].map(formal_tasks)"
   ]
  },
  {
   "cell_type": "code",
   "execution_count": 21,
   "metadata": {},
   "outputs": [
    {
     "data": {
      "image/png": "[encoded data removed]",
      "text/plain": [
       "<Figure size 864x432 with 1 Axes>"
      ]
     },
     "metadata": {},
     "output_type": "display_data"
    }
   ],
   "source": [
    "fig = plt.figure(figsize=(12,6))\n",
    "\n",
    "bar = sns.barplot(x='Task', y='Dual Task SSRT - Single Task SSRT', hue='Trial Type', data=melted_diffs, palette=palette)\n",
    "plt.legend(prop={'weight': 'bold'})\n",
    "\n",
    "_ = plt.xticks(rotation=31, ha='right', fontweight='bold', fontsize='11')\n",
    "_ = plt.yticks(fontweight='bold', fontsize='12')\n",
    "\n",
    "bar.set_xlabel('Dual Task', fontsize = 18, fontweight='bold')\n",
    "bar.set_ylabel('Dual Task SSRT - Single Task SSRT', fontsize = 16, fontweight='bold')\n",
    "\n",
    "lowx, highx = plt.xlim()\n",
    "plt.plot([lowx, highx],[0,0],color='k',linestyle=':',linewidth=3)\n",
    "plt.title('Interference of SSRTs in Dual Task Conditions', fontsize='18', fontweight='bold')\n",
    "plt.tight_layout()\n",
    "lowy, highy = plt.ylim()\n",
    "_ = plt.axis([lowx, highx, lowy, highy])\n",
    "plt.savefig(f'figures/dataset-{dataset}_metric-SSRT_barplot.png', dpi=300)\n",
    "plt.show()\n",
    "plt.close()"
   ]
  },
  {
   "cell_type": "markdown",
   "metadata": {},
   "source": [
    "# Repetitions with Exclusions"
   ]
  },
  {
   "cell_type": "code",
   "execution_count": 22,
   "metadata": {},
   "outputs": [],
   "source": [
    "def pipeline(SSRTs, strip_str=''):\n",
    "    SSRTs = SSRTs.copy()\n",
    "    SSRTs.columns = [c.replace(strip_str, '') for c in SSRTs.columns]\n",
    "    \n",
    "    old_nSubs = len(SSRTs)\n",
    "    SSRTs = SSRTs.dropna()\n",
    "    new_nSubs = len(SSRTs)\n",
    "    print(f'{old_nSubs-new_nSubs} subs dropped for nan cell')\n",
    "\n",
    "    # One-way ANOVA\n",
    "    SSRTs_taskMeaned = pd.DataFrame()\n",
    "    for task_name in stop_data_dict.keys():\n",
    "        short_name = task_name.split('_with_')[-1]\n",
    "        if short_name == 'stop_signal_single_task_network':\n",
    "            SSRTs_taskMeaned['SE'] = SSRTs.filter(regex='SE')\n",
    "        else:\n",
    "            SSRTs_taskMeaned[short_name] = SSRTs.filter(regex=short_name).mean(1)\n",
    "    melted_SSRTs = SSRTs_taskMeaned.reset_index().melt(id_vars='ID')\n",
    "    anova_res = pg.rm_anova(data=melted_SSRTs, dv='value', within='variable', subject='ID', detailed=True)\n",
    "    display(anova_res)\n",
    "\n",
    "    # Planned Contrasts\n",
    "    planned_tasks = ['directed_forgetting', 'n_back', 'cued_task_switching', 'shape_matching']\n",
    "    out_df = pd.DataFrame(index=planned_tasks + ['n_back: DE > DC'], columns=['mean', 't', 'p', 'd'])\n",
    "    df = anova_res.loc[anova_res.Source=='Error', 'DF'].values[0]\n",
    "    MS = anova_res.loc[anova_res.Source=='Error', 'MS'].values[0]\n",
    "    std_err = np.sqrt(MS * (2/len(SSRTs)))\n",
    "    for task in planned_tasks:\n",
    "        diffs = (SSRTs_taskMeaned.filter(regex=task).values - SSRTs_taskMeaned.filter(regex='SE').values)\n",
    "        t = np.mean(diffs)/std_err\n",
    "        pval = stats.t.sf(t, df) \n",
    "        print(f'{task}: Mean={diff:.2f}, t={t:.3f}, p={pval:.6f}, d={np.mean(diffs)/np.std(diffs):.2f}')\n",
    "        out_df.loc[task, ['mean', 't', 'p', 'd']] = np.mean(diffs), t, pval, np.mean(diffs)/np.std(diffs)\n",
    "\n",
    "    # n-Back t-test\n",
    "    diff_SSRTs = SSRTs.sub(SSRTs.filter(regex='SE').values)\n",
    "    del diff_SSRTs['SE_SSRT']\n",
    "    \n",
    "    diffs = (diff_SSRTs.n_back_DE_SSRT.values - diff_SSRTs.n_back_DC_SSRT.values)\n",
    "    t, pval = stats.ttest_rel(diff_SSRTs.n_back_DE_SSRT.values, diff_SSRTs.n_back_DC_SSRT.values, nan_policy='raise', alternative='greater')\n",
    "    print(f'n-Back DE > DC: Mean={np.mean(diffs):.2f}, t={t:.3f}, p={pval:.6f}, d={np.mean(diffs)/np.std(diffs):.2f}')\n",
    "    out_df.loc['n_back: DE > DC', ['mean', 't', 'p', 'd']] = np.mean(diffs), t, pval, np.mean(diffs)/np.std(diffs)\n",
    "\n",
    "    # Visualization\n",
    "    melted_diffs = diff_SSRTs.reset_index().melt(id_vars='ID', value_name='Dual Task SSRT - Single Task SSRT')\n",
    "    melted_diffs['Task'] = [i.split('_SSRT')[0].replace('_DC', '').replace('_DE', '') for i in melted_diffs['variable']]\n",
    "    melted_diffs['Trial Type'] = [context_str(i) for i in melted_diffs['variable']]\n",
    "    melted_diffs.loc[melted_diffs['Task']=='SE', 'context'] = 'SE'\n",
    "\n",
    "    melted_diffs['order'] = melted_diffs['Task'].map(order_dict)\n",
    "    melted_diffs = melted_diffs.sort_values(['order', 'Trial Type'])\n",
    "    melted_diffs['Task'] = melted_diffs['Task'].map(formal_tasks)\n",
    "    \n",
    "    fig = plt.figure(figsize=(12,6))\n",
    "    bar = sns.barplot(x='Task', y='Dual Task SSRT - Single Task SSRT', hue='Trial Type', data=melted_diffs, palette=palette)\n",
    "    plt.legend(prop={'weight': 'bold'})\n",
    "    _ = plt.xticks(rotation=31, ha='right', fontweight='bold', fontsize='11')\n",
    "    _ = plt.yticks(fontweight='bold', fontsize='12')\n",
    "    bar.set_xlabel('Dual Task', fontsize = 18, fontweight='bold')\n",
    "    bar.set_ylabel('Dual Task SSRT - Single Task SSRT', fontsize = 16, fontweight='bold')\n",
    "\n",
    "    lowx, highx = plt.xlim()\n",
    "    plt.plot([lowx, highx],[0,0],color='k',linestyle=':',linewidth=2)\n",
    "    plt.title('Interference of SSRTs in Dual Task Conditions', fontsize='x-large')\n",
    "    plt.tight_layout()\n",
    "    lowy, highy = plt.ylim()\n",
    "    _ = plt.axis([lowx, highx, lowy, highy])\n",
    "    plt.show()\n",
    "    plt.close()\n",
    "    return out_df"
   ]
  },
  {
   "cell_type": "markdown",
   "metadata": {},
   "source": [
    "# Exclude Short SSD trials"
   ]
  },
  {
   "cell_type": "code",
   "execution_count": 23,
   "metadata": {},
   "outputs": [
    {
     "name": "stdout",
     "output_type": "stream",
     "text": [
      "13 subs dropped for nan cell\n"
     ]
    },
    {
     "data": {
      "text/html": [
       "<div>\n",
       "<style scoped>\n",
       "    .dataframe tbody tr th:only-of-type {\n",
       "        vertical-align: middle;\n",
       "    }\n",
       "\n",
       "    .dataframe tbody tr th {\n",
       "        vertical-align: top;\n",
       "    }\n",
       "\n",
       "    .dataframe thead th {\n",
       "        text-align: right;\n",
       "    }\n",
       "</style>\n",
       "<table border=\"1\" class=\"dataframe\">\n",
       "  <thead>\n",
       "    <tr style=\"text-align: right;\">\n",
       "      <th></th>\n",
       "      <th>Source</th>\n",
       "      <th>SS</th>\n",
       "      <th>DF</th>\n",
       "      <th>MS</th>\n",
       "      <th>F</th>\n",
       "      <th>p-unc</th>\n",
       "      <th>p-GG-corr</th>\n",
       "      <th>np2</th>\n",
       "      <th>eps</th>\n",
       "      <th>sphericity</th>\n",
       "      <th>W-spher</th>\n",
       "      <th>p-spher</th>\n",
       "    </tr>\n",
       "  </thead>\n",
       "  <tbody>\n",
       "    <tr>\n",
       "      <th>0</th>\n",
       "      <td>variable</td>\n",
       "      <td>71744.241923</td>\n",
       "      <td>6</td>\n",
       "      <td>11957.373654</td>\n",
       "      <td>7.970047</td>\n",
       "      <td>5.192599e-08</td>\n",
       "      <td>0.000001</td>\n",
       "      <td>0.1329</td>\n",
       "      <td>0.778618</td>\n",
       "      <td>False</td>\n",
       "      <td>0.358683</td>\n",
       "      <td>0.000161</td>\n",
       "    </tr>\n",
       "    <tr>\n",
       "      <th>1</th>\n",
       "      <td>Error</td>\n",
       "      <td>468090.167205</td>\n",
       "      <td>312</td>\n",
       "      <td>1500.288997</td>\n",
       "      <td>NaN</td>\n",
       "      <td>NaN</td>\n",
       "      <td>NaN</td>\n",
       "      <td>NaN</td>\n",
       "      <td>NaN</td>\n",
       "      <td>NaN</td>\n",
       "      <td>NaN</td>\n",
       "      <td>NaN</td>\n",
       "    </tr>\n",
       "  </tbody>\n",
       "</table>\n",
       "</div>"
      ],
      "text/plain": [
       "     Source             SS   DF            MS         F         p-unc  \\\n",
       "0  variable   71744.241923    6  11957.373654  7.970047  5.192599e-08   \n",
       "1     Error  468090.167205  312   1500.288997       NaN           NaN   \n",
       "\n",
       "   p-GG-corr     np2       eps sphericity   W-spher   p-spher  \n",
       "0   0.000001  0.1329  0.778618      False  0.358683  0.000161  \n",
       "1        NaN     NaN       NaN        NaN       NaN       NaN  "
      ]
     },
     "metadata": {},
     "output_type": "display_data"
    },
    {
     "name": "stdout",
     "output_type": "stream",
     "text": [
      "directed_forgetting: Mean=31.70, t=4.702, p=0.000002, d=0.58\n",
      "n_back: Mean=31.70, t=3.905, p=0.000058, d=0.51\n",
      "cued_task_switching: Mean=31.70, t=2.581, p=0.005147, d=0.35\n",
      "shape_matching: Mean=31.70, t=3.924, p=0.000054, d=0.66\n",
      "n-Back DE > DC: Mean=21.78, t=1.810, p=0.038008, d=0.25\n"
     ]
    },
    {
     "data": {
      "image/png": "[encoded data removed]",
      "text/plain": [
       "<Figure size 864x432 with 1 Axes>"
      ]
     },
     "metadata": {},
     "output_type": "display_data"
    }
   ],
   "source": [
    "thresh_SSD_tests = pipeline(SSRTs_ThreshSSDs, strip_str='_wThresh_SSDs')"
   ]
  },
  {
   "cell_type": "code",
   "execution_count": 24,
   "metadata": {},
   "outputs": [],
   "source": [
    "thresh_SSD_tests.to_csv(f'result_csvs/dataset-{dataset}_metric-SSRT_wThresh_SSDs_tests-validationContrasts.csv')"
   ]
  },
  {
   "cell_type": "markdown",
   "metadata": {},
   "source": [
    "# Exclude Short SSD subjects"
   ]
  },
  {
   "cell_type": "code",
   "execution_count": 25,
   "metadata": {},
   "outputs": [
    {
     "name": "stdout",
     "output_type": "stream",
     "text": [
      "37 subs dropped for nan cell\n"
     ]
    },
    {
     "data": {
      "text/html": [
       "<div>\n",
       "<style scoped>\n",
       "    .dataframe tbody tr th:only-of-type {\n",
       "        vertical-align: middle;\n",
       "    }\n",
       "\n",
       "    .dataframe tbody tr th {\n",
       "        vertical-align: top;\n",
       "    }\n",
       "\n",
       "    .dataframe thead th {\n",
       "        text-align: right;\n",
       "    }\n",
       "</style>\n",
       "<table border=\"1\" class=\"dataframe\">\n",
       "  <thead>\n",
       "    <tr style=\"text-align: right;\">\n",
       "      <th></th>\n",
       "      <th>Source</th>\n",
       "      <th>SS</th>\n",
       "      <th>DF</th>\n",
       "      <th>MS</th>\n",
       "      <th>F</th>\n",
       "      <th>p-unc</th>\n",
       "      <th>p-GG-corr</th>\n",
       "      <th>np2</th>\n",
       "      <th>eps</th>\n",
       "      <th>sphericity</th>\n",
       "      <th>W-spher</th>\n",
       "      <th>p-spher</th>\n",
       "    </tr>\n",
       "  </thead>\n",
       "  <tbody>\n",
       "    <tr>\n",
       "      <th>0</th>\n",
       "      <td>variable</td>\n",
       "      <td>99268.054886</td>\n",
       "      <td>6</td>\n",
       "      <td>16544.675814</td>\n",
       "      <td>11.49654</td>\n",
       "      <td>9.248794e-11</td>\n",
       "      <td>1.137219e-08</td>\n",
       "      <td>0.291077</td>\n",
       "      <td>0.75994</td>\n",
       "      <td>False</td>\n",
       "      <td>0.261149</td>\n",
       "      <td>0.023089</td>\n",
       "    </tr>\n",
       "    <tr>\n",
       "      <th>1</th>\n",
       "      <td>Error</td>\n",
       "      <td>241768.882795</td>\n",
       "      <td>168</td>\n",
       "      <td>1439.100493</td>\n",
       "      <td>NaN</td>\n",
       "      <td>NaN</td>\n",
       "      <td>NaN</td>\n",
       "      <td>NaN</td>\n",
       "      <td>NaN</td>\n",
       "      <td>NaN</td>\n",
       "      <td>NaN</td>\n",
       "      <td>NaN</td>\n",
       "    </tr>\n",
       "  </tbody>\n",
       "</table>\n",
       "</div>"
      ],
      "text/plain": [
       "     Source             SS   DF            MS         F         p-unc  \\\n",
       "0  variable   99268.054886    6  16544.675814  11.49654  9.248794e-11   \n",
       "1     Error  241768.882795  168   1439.100493       NaN           NaN   \n",
       "\n",
       "      p-GG-corr       np2      eps sphericity   W-spher   p-spher  \n",
       "0  1.137219e-08  0.291077  0.75994      False  0.261149  0.023089  \n",
       "1           NaN       NaN      NaN        NaN       NaN       NaN  "
      ]
     },
     "metadata": {},
     "output_type": "display_data"
    },
    {
     "name": "stdout",
     "output_type": "stream",
     "text": [
      "directed_forgetting: Mean=31.70, t=7.083, p=0.000000, d=1.29\n",
      "n_back: Mean=31.70, t=3.026, p=0.001432, d=0.54\n",
      "cued_task_switching: Mean=31.70, t=1.691, p=0.046388, d=0.28\n",
      "shape_matching: Mean=31.70, t=2.234, p=0.013402, d=0.47\n",
      "n-Back DE > DC: Mean=33.33, t=2.384, p=0.012064, d=0.45\n"
     ]
    },
    {
     "data": {
      "image/png": "[encoded data removed]",
      "text/plain": [
       "<Figure size 864x432 with 1 Axes>"
      ]
     },
     "metadata": {},
     "output_type": "display_data"
    }
   ],
   "source": [
    "thresh_subs_tests = pipeline(SSRTs_ThreshSubs, strip_str='_wThresh_subs')"
   ]
  },
  {
   "cell_type": "code",
   "execution_count": 26,
   "metadata": {},
   "outputs": [],
   "source": [
    "thresh_subs_tests.to_csv(f'result_csvs/dataset-{dataset}_metric-SSRT_wThresh_subs_tests-validationContrasts.csv')"
   ]
  },
  {
   "cell_type": "code",
   "execution_count": null,
   "metadata": {},
   "outputs": [],
   "source": []
  }
 ],
 "metadata": {
  "kernelspec": {
   "display_name": "Python 3",
   "language": "python",
   "name": "python3"
  },
  "language_info": {
   "codemirror_mode": {
    "name": "ipython",
    "version": 3
   },
   "file_extension": ".py",
   "mimetype": "text/x-python",
   "name": "python",
   "nbconvert_exporter": "python",
   "pygments_lexer": "ipython3",
   "version": "3.7.3"
  }
 },
 "nbformat": 4,
 "nbformat_minor": 4
}
