{
 "cells": [
  {
   "cell_type": "code",
   "execution_count": 1,
   "metadata": {},
   "outputs": [
    {
     "name": "stderr",
     "output_type": "stream",
     "text": [
      "/Users/henrymj/anaconda3/lib/python3.7/site-packages/outdated/utils.py:18: OutdatedPackageWarning: The package outdated is out of date. Your version is 0.2.0, the latest is 0.2.1.\n",
      "Set the environment variable OUTDATED_IGNORE=1 to disable these warnings.\n",
      "  **kwargs\n"
     ]
    }
   ],
   "source": [
    "import numpy as np\n",
    "import pandas as pd\n",
    "import pingouin as pg\n",
    "from scipy import stats\n",
    "\n",
    "import matplotlib.pyplot as plt\n",
    "import seaborn as sns\n",
    "from IPython.display import display\n",
    "\n",
    "from dual_data_utils import make_clean_concat_data\n",
    "from stopsignalmetrics import StopData, SSRTmodel"
   ]
  },
  {
   "cell_type": "markdown",
   "metadata": {},
   "source": [
    "# Read in and Compute Metrics on Data"
   ]
  },
  {
   "cell_type": "code",
   "execution_count": 2,
   "metadata": {},
   "outputs": [],
   "source": [
    "dataset='validation'"
   ]
  },
  {
   "cell_type": "code",
   "execution_count": 3,
   "metadata": {},
   "outputs": [],
   "source": [
    "OUTLIER_THRESH  = 3\n",
    "SSD_THRESH = 200\n",
    "\n",
    "dual_dict = {\n",
    "    'stop_signal_with_cued_task_switching': {\n",
    "        'dual_col': 'cue_task_switch',\n",
    "        'DC': 'cue_stay_task_stay',\n",
    "        'DE': 'cue_switch_task_switch',\n",
    "        'OTHER': ['cue_switch_task_stay']\n",
    "    },\n",
    "    'stop_signal_with_directed_forgetting': {\n",
    "        'dual_col': 'directed_forgetting_condition',\n",
    "        'DC': 'con',\n",
    "        'DE': 'neg',\n",
    "        'OTHER': ['pos']\n",
    "    },\n",
    "    'stop_signal_with_flanker': {\n",
    "        'dual_col': 'flanker_condition',\n",
    "        'DC': 'congruent',\n",
    "        'DE': 'incongruent'\n",
    "    },\n",
    "    'stop_signal_with_go_no_go': {\n",
    "        'dual_col': 'go_nogo_condition',\n",
    "        'DC': 'go',\n",
    "        'DE': 'nogo'\n",
    "    },\n",
    "    'stop_signal_with_n_back': {\n",
    "        'dual_col': 'delay_condition',\n",
    "        'DC': 1.,\n",
    "        'DE': 2.,\n",
    "        'OTHER': [3.]\n",
    "    },\n",
    "    'stop_signal_with_predictable_task_switching': {\n",
    "        'dual_col': 'predictable_condition',\n",
    "        'DC': 'stay',\n",
    "        'DE': 'switch'\n",
    "    },\n",
    "    'stop_signal_with_shape_matching': {\n",
    "        'dual_col': 'shape_matching_condition',\n",
    "        'DC': 'CONTROL',\n",
    "        'DE': 'DISTRACTOR',\n",
    "        'OTHER': ['DSD', 'SSS']\n",
    "    },\n",
    "}\n",
    "\n",
    "stopmetrics_var_dict = {\n",
    "    'columns': {\n",
    "        'ID': 'worker_id',\n",
    "        'block': 'current_block',\n",
    "        'condition': 'SS_trial_type',\n",
    "        'SSD': 'SS_delay',\n",
    "        'goRT': 'rt',\n",
    "        'stopRT': 'rt',\n",
    "        'response': 'key_press',\n",
    "        'correct_response': 'choice_correct_response',\n",
    "        'choice_accuracy': 'choice_accuracy'},\n",
    "    'key_codes': {\n",
    "        'go': 'go',\n",
    "        'stop': 'stop',\n",
    "        'correct': 1,\n",
    "        'incorrect': 0,\n",
    "        'noResponse': -1}}"
   ]
  },
  {
   "cell_type": "code",
   "execution_count": 4,
   "metadata": {},
   "outputs": [],
   "source": [
    "def get_query_str(col, condition):\n",
    "    if type(condition)==str:\n",
    "        return \"%s=='%s'\" % (col, condition)\n",
    "    elif type(condition) in [float, int]:\n",
    "        return \"%s==%s\" % (col, condition)\n",
    "    elif type(condition)==list:\n",
    "        return \"%s in %s\" % (col, condition)\n",
    "\n",
    "def stop_summarize(curr_data, thresh=SSD_THRESH, query_str=None):\n",
    "    data_df = curr_data.query(query_str) if query_str is not None else curr_data\n",
    "    \n",
    "    sum_df = SSRTmodel().fit_transform(data_df, level='group')\n",
    "    sum_df_threshSSDs = SSRTmodel().fit_transform(data_df.query(f'SSD>={thresh} or condition==\"go\"'), level='group').add_suffix('_wThresh_SSDs')\n",
    "    sum_df_threshSubs = sum_df.query(f\"mean_SSD >= {thresh}\").add_suffix('_wThresh_subs')\n",
    "    return pd.concat([sum_df, sum_df_threshSSDs, sum_df_threshSubs],\n",
    "                       1,\n",
    "                       sort=True\n",
    "                      )\n",
    "\n",
    "def get_inhib_func(curr_data, cond):\n",
    "    inhib_df = pd.DataFrame(curr_data.groupby(['ID', 'SSD']).apply(lambda x: x.stopRT.notnull().sum()/len(x))).reset_index()\n",
    "    inhib_df['condition'] = cond\n",
    "    return inhib_df\n",
    "\n",
    "def get_gng_presp(curr_data):\n",
    "    curr_data = curr_data.copy()\n",
    "    stop_trials = curr_data.query(\"stop_signal_condition=='stop'\")\n",
    "    out={}\n",
    "    out['p_resp'] = (stop_trials.rt != -1).sum()/len(stop_trials)\n",
    "    out['p_resp_go'] = (stop_trials.query(\"go_nogo_condition=='go'\").rt != -1).sum()/len(stop_trials.query(\"go_nogo_condition=='go'\"))\n",
    "    out['p_resp_nogo'] = (stop_trials.query(\"go_nogo_condition=='nogo'\").rt != -1).sum()/len(stop_trials.query(\"go_nogo_condition=='nogo'\"))\n",
    "    return out"
   ]
  },
  {
   "cell_type": "code",
   "execution_count": 5,
   "metadata": {},
   "outputs": [],
   "source": [
    "stop_data_dict = make_clean_concat_data(stop_subset=True, dataset=dataset)"
   ]
  },
  {
   "cell_type": "markdown",
   "metadata": {},
   "source": [
    "# Check P(resp|signal) in Go/NoGo "
   ]
  },
  {
   "cell_type": "code",
   "execution_count": 6,
   "metadata": {},
   "outputs": [
    {
     "data": {
      "text/html": [
       "<div>\n",
       "<style scoped>\n",
       "    .dataframe tbody tr th:only-of-type {\n",
       "        vertical-align: middle;\n",
       "    }\n",
       "\n",
       "    .dataframe tbody tr th {\n",
       "        vertical-align: top;\n",
       "    }\n",
       "\n",
       "    .dataframe thead th {\n",
       "        text-align: right;\n",
       "    }\n",
       "</style>\n",
       "<table border=\"1\" class=\"dataframe\">\n",
       "  <thead>\n",
       "    <tr style=\"text-align: right;\">\n",
       "      <th></th>\n",
       "      <th>p_resp</th>\n",
       "      <th>p_resp_go</th>\n",
       "      <th>p_resp_nogo</th>\n",
       "    </tr>\n",
       "  </thead>\n",
       "  <tbody>\n",
       "    <tr>\n",
       "      <th>count</th>\n",
       "      <td>33.000000</td>\n",
       "      <td>33.000000</td>\n",
       "      <td>33.000000</td>\n",
       "    </tr>\n",
       "    <tr>\n",
       "      <th>mean</th>\n",
       "      <td>0.433333</td>\n",
       "      <td>0.501768</td>\n",
       "      <td>0.022727</td>\n",
       "    </tr>\n",
       "    <tr>\n",
       "      <th>std</th>\n",
       "      <td>0.017097</td>\n",
       "      <td>0.016765</td>\n",
       "      <td>0.058751</td>\n",
       "    </tr>\n",
       "    <tr>\n",
       "      <th>min</th>\n",
       "      <td>0.371429</td>\n",
       "      <td>0.433333</td>\n",
       "      <td>0.000000</td>\n",
       "    </tr>\n",
       "    <tr>\n",
       "      <th>25%</th>\n",
       "      <td>0.428571</td>\n",
       "      <td>0.500000</td>\n",
       "      <td>0.000000</td>\n",
       "    </tr>\n",
       "    <tr>\n",
       "      <th>50%</th>\n",
       "      <td>0.435714</td>\n",
       "      <td>0.500000</td>\n",
       "      <td>0.000000</td>\n",
       "    </tr>\n",
       "    <tr>\n",
       "      <th>75%</th>\n",
       "      <td>0.442857</td>\n",
       "      <td>0.508333</td>\n",
       "      <td>0.000000</td>\n",
       "    </tr>\n",
       "    <tr>\n",
       "      <th>max</th>\n",
       "      <td>0.471429</td>\n",
       "      <td>0.525000</td>\n",
       "      <td>0.300000</td>\n",
       "    </tr>\n",
       "  </tbody>\n",
       "</table>\n",
       "</div>"
      ],
      "text/plain": [
       "          p_resp  p_resp_go  p_resp_nogo\n",
       "count  33.000000  33.000000    33.000000\n",
       "mean    0.433333   0.501768     0.022727\n",
       "std     0.017097   0.016765     0.058751\n",
       "min     0.371429   0.433333     0.000000\n",
       "25%     0.428571   0.500000     0.000000\n",
       "50%     0.435714   0.500000     0.000000\n",
       "75%     0.442857   0.508333     0.000000\n",
       "max     0.471429   0.525000     0.300000"
      ]
     },
     "execution_count": 6,
     "metadata": {},
     "output_type": "execute_result"
    }
   ],
   "source": [
    "gng_presp_data = pd.DataFrame(list(stop_data_dict['stop_signal_with_go_no_go'].groupby('worker_id').apply(get_gng_presp)))\n",
    "gng_presp_data.describe()"
   ]
  },
  {
   "cell_type": "code",
   "execution_count": 7,
   "metadata": {},
   "outputs": [],
   "source": [
    "del stop_data_dict['stop_signal_with_go_no_go']"
   ]
  },
  {
   "cell_type": "markdown",
   "metadata": {},
   "source": [
    "# Get SSRT metrics for remaining tasks"
   ]
  },
  {
   "cell_type": "code",
   "execution_count": 8,
   "metadata": {},
   "outputs": [],
   "source": [
    "# build dict\n",
    "ssrtc_out = {}\n",
    "for task_name in stop_data_dict.keys():  # [k for k in stop_data_dict.keys()][:1]:  # development loop using just 1st task\n",
    "    curr_data = StopData(stopmetrics_var_dict).fit_transform(stop_data_dict[task_name].drop(columns=['correct_response']))\n",
    "    short_name = task_name.split('_with_')[-1]\n",
    "    ssrtc_out[short_name] = stop_summarize(curr_data)\n",
    "    \n",
    "    if 'with' in task_name:\n",
    "        dual_col = dual_dict[task_name]['dual_col']\n",
    "        for key in [k for k in dual_dict[task_name] if k!='dual_col']:\n",
    "            query_str = get_query_str(dual_col, dual_dict[task_name][key])\n",
    "            ssrtc_out['%s_%s' % (short_name,key)] = stop_summarize(\n",
    "                curr_data,\n",
    "                query_str=query_str\n",
    "            )\n",
    "\n",
    "ssrtc_out['SE'] = ssrtc_out.pop('stop_signal_single_task_network')\n",
    "metrics = [c for c in ssrtc_out['SE'].columns if 'max_RT' not in c]\n",
    "\n",
    "#flatten data, remove outliers w/ values > 3 SDs from the mean\n",
    "flattened_data = pd.concat([ssrtc_out[k].add_prefix(k+'_') for k in ssrtc_out], axis=1, sort=True)\n",
    "flattened_data = flattened_data.filter(regex='SE|DC|DE', axis=1)\n",
    "z_df = flattened_data.apply(stats.zscore).apply(np.abs)\n",
    "flattened_data[z_df>OUTLIER_THRESH] = None\n",
    "flattened_data.index.name='ID'\n",
    "\n",
    "\n",
    "\n",
    "SSRTs = flattened_data.loc[:, ~flattened_data.columns.str.contains(\"wThresh\")].filter(regex='SSRT')\n",
    "SSRTs_ThreshSSDs = flattened_data.loc[:, flattened_data.columns.str.contains(\"wThresh_SSDs\")].filter(regex='SSRT')\n",
    "SSRTs_ThreshSubs = flattened_data.loc[:, flattened_data.columns.str.contains(\"wThresh_subs\")].filter(regex='SSRT')"
   ]
  },
  {
   "cell_type": "markdown",
   "metadata": {},
   "source": [
    "# Validation Analyses"
   ]
  },
  {
   "cell_type": "code",
   "execution_count": 9,
   "metadata": {},
   "outputs": [
    {
     "name": "stdout",
     "output_type": "stream",
     "text": [
      "2 subs dropped for nan cell\n"
     ]
    }
   ],
   "source": [
    "old_nSubs = len(SSRTs)\n",
    "SSRTs = SSRTs.dropna()\n",
    "new_nSubs = len(SSRTs)\n",
    "print(f'{old_nSubs-new_nSubs} subs dropped for nan cell')"
   ]
  },
  {
   "cell_type": "markdown",
   "metadata": {},
   "source": [
    "# One-way Anova"
   ]
  },
  {
   "cell_type": "code",
   "execution_count": 10,
   "metadata": {},
   "outputs": [
    {
     "data": {
      "text/html": [
       "<div>\n",
       "<style scoped>\n",
       "    .dataframe tbody tr th:only-of-type {\n",
       "        vertical-align: middle;\n",
       "    }\n",
       "\n",
       "    .dataframe tbody tr th {\n",
       "        vertical-align: top;\n",
       "    }\n",
       "\n",
       "    .dataframe thead th {\n",
       "        text-align: right;\n",
       "    }\n",
       "</style>\n",
       "<table border=\"1\" class=\"dataframe\">\n",
       "  <thead>\n",
       "    <tr style=\"text-align: right;\">\n",
       "      <th></th>\n",
       "      <th>cued_task_switching</th>\n",
       "      <th>SE</th>\n",
       "      <th>directed_forgetting</th>\n",
       "      <th>flanker</th>\n",
       "      <th>predictable_task_switching</th>\n",
       "      <th>n_back</th>\n",
       "      <th>shape_matching</th>\n",
       "    </tr>\n",
       "    <tr>\n",
       "      <th>ID</th>\n",
       "      <th></th>\n",
       "      <th></th>\n",
       "      <th></th>\n",
       "      <th></th>\n",
       "      <th></th>\n",
       "      <th></th>\n",
       "      <th></th>\n",
       "    </tr>\n",
       "  </thead>\n",
       "  <tbody>\n",
       "    <tr>\n",
       "      <th>s009</th>\n",
       "      <td>168.00</td>\n",
       "      <td>193.916667</td>\n",
       "      <td>296.0</td>\n",
       "      <td>208.25</td>\n",
       "      <td>221.75</td>\n",
       "      <td>248.219758</td>\n",
       "      <td>219.333333</td>\n",
       "    </tr>\n",
       "    <tr>\n",
       "      <th>s019</th>\n",
       "      <td>257.00</td>\n",
       "      <td>233.666667</td>\n",
       "      <td>366.0</td>\n",
       "      <td>243.75</td>\n",
       "      <td>261.00</td>\n",
       "      <td>197.663734</td>\n",
       "      <td>294.833333</td>\n",
       "    </tr>\n",
       "    <tr>\n",
       "      <th>s031</th>\n",
       "      <td>349.50</td>\n",
       "      <td>237.000000</td>\n",
       "      <td>322.5</td>\n",
       "      <td>292.00</td>\n",
       "      <td>292.75</td>\n",
       "      <td>273.458333</td>\n",
       "      <td>261.583333</td>\n",
       "    </tr>\n",
       "    <tr>\n",
       "      <th>s034</th>\n",
       "      <td>233.75</td>\n",
       "      <td>198.500000</td>\n",
       "      <td>390.5</td>\n",
       "      <td>258.00</td>\n",
       "      <td>254.00</td>\n",
       "      <td>320.218750</td>\n",
       "      <td>264.083333</td>\n",
       "    </tr>\n",
       "    <tr>\n",
       "      <th>s038</th>\n",
       "      <td>223.75</td>\n",
       "      <td>206.750000</td>\n",
       "      <td>309.5</td>\n",
       "      <td>223.50</td>\n",
       "      <td>194.00</td>\n",
       "      <td>253.545363</td>\n",
       "      <td>223.916667</td>\n",
       "    </tr>\n",
       "  </tbody>\n",
       "</table>\n",
       "</div>"
      ],
      "text/plain": [
       "      cued_task_switching          SE  directed_forgetting  flanker  \\\n",
       "ID                                                                    \n",
       "s009               168.00  193.916667                296.0   208.25   \n",
       "s019               257.00  233.666667                366.0   243.75   \n",
       "s031               349.50  237.000000                322.5   292.00   \n",
       "s034               233.75  198.500000                390.5   258.00   \n",
       "s038               223.75  206.750000                309.5   223.50   \n",
       "\n",
       "      predictable_task_switching      n_back  shape_matching  \n",
       "ID                                                            \n",
       "s009                      221.75  248.219758      219.333333  \n",
       "s019                      261.00  197.663734      294.833333  \n",
       "s031                      292.75  273.458333      261.583333  \n",
       "s034                      254.00  320.218750      264.083333  \n",
       "s038                      194.00  253.545363      223.916667  "
      ]
     },
     "execution_count": 10,
     "metadata": {},
     "output_type": "execute_result"
    }
   ],
   "source": [
    "SSRTs_taskMeaned = pd.DataFrame()\n",
    "for task_name in stop_data_dict.keys():\n",
    "    short_name = task_name.split('_with_')[-1]\n",
    "    if short_name == 'stop_signal_single_task_network':\n",
    "        SSRTs_taskMeaned['SE'] = SSRTs.filter(regex='SE')\n",
    "    else:\n",
    "        SSRTs_taskMeaned[short_name] = SSRTs.filter(regex=short_name).mean(1)\n",
    "SSRTs_taskMeaned.head()"
   ]
  },
  {
   "cell_type": "code",
   "execution_count": 11,
   "metadata": {},
   "outputs": [
    {
     "data": {
      "text/html": [
       "<div>\n",
       "<style scoped>\n",
       "    .dataframe tbody tr th:only-of-type {\n",
       "        vertical-align: middle;\n",
       "    }\n",
       "\n",
       "    .dataframe tbody tr th {\n",
       "        vertical-align: top;\n",
       "    }\n",
       "\n",
       "    .dataframe thead th {\n",
       "        text-align: right;\n",
       "    }\n",
       "</style>\n",
       "<table border=\"1\" class=\"dataframe\">\n",
       "  <thead>\n",
       "    <tr style=\"text-align: right;\">\n",
       "      <th></th>\n",
       "      <th>ID</th>\n",
       "      <th>variable</th>\n",
       "      <th>value</th>\n",
       "    </tr>\n",
       "  </thead>\n",
       "  <tbody>\n",
       "    <tr>\n",
       "      <th>0</th>\n",
       "      <td>s009</td>\n",
       "      <td>cued_task_switching</td>\n",
       "      <td>168.000000</td>\n",
       "    </tr>\n",
       "    <tr>\n",
       "      <th>1</th>\n",
       "      <td>s019</td>\n",
       "      <td>cued_task_switching</td>\n",
       "      <td>257.000000</td>\n",
       "    </tr>\n",
       "    <tr>\n",
       "      <th>2</th>\n",
       "      <td>s031</td>\n",
       "      <td>cued_task_switching</td>\n",
       "      <td>349.500000</td>\n",
       "    </tr>\n",
       "    <tr>\n",
       "      <th>3</th>\n",
       "      <td>s034</td>\n",
       "      <td>cued_task_switching</td>\n",
       "      <td>233.750000</td>\n",
       "    </tr>\n",
       "    <tr>\n",
       "      <th>4</th>\n",
       "      <td>s038</td>\n",
       "      <td>cued_task_switching</td>\n",
       "      <td>223.750000</td>\n",
       "    </tr>\n",
       "    <tr>\n",
       "      <th>...</th>\n",
       "      <td>...</td>\n",
       "      <td>...</td>\n",
       "      <td>...</td>\n",
       "    </tr>\n",
       "    <tr>\n",
       "      <th>212</th>\n",
       "      <td>s514</td>\n",
       "      <td>shape_matching</td>\n",
       "      <td>296.833333</td>\n",
       "    </tr>\n",
       "    <tr>\n",
       "      <th>213</th>\n",
       "      <td>s528</td>\n",
       "      <td>shape_matching</td>\n",
       "      <td>288.666667</td>\n",
       "    </tr>\n",
       "    <tr>\n",
       "      <th>214</th>\n",
       "      <td>s541</td>\n",
       "      <td>shape_matching</td>\n",
       "      <td>198.500000</td>\n",
       "    </tr>\n",
       "    <tr>\n",
       "      <th>215</th>\n",
       "      <td>s548</td>\n",
       "      <td>shape_matching</td>\n",
       "      <td>305.416667</td>\n",
       "    </tr>\n",
       "    <tr>\n",
       "      <th>216</th>\n",
       "      <td>s560</td>\n",
       "      <td>shape_matching</td>\n",
       "      <td>280.916667</td>\n",
       "    </tr>\n",
       "  </tbody>\n",
       "</table>\n",
       "<p>217 rows × 3 columns</p>\n",
       "</div>"
      ],
      "text/plain": [
       "       ID             variable       value\n",
       "0    s009  cued_task_switching  168.000000\n",
       "1    s019  cued_task_switching  257.000000\n",
       "2    s031  cued_task_switching  349.500000\n",
       "3    s034  cued_task_switching  233.750000\n",
       "4    s038  cued_task_switching  223.750000\n",
       "..    ...                  ...         ...\n",
       "212  s514       shape_matching  296.833333\n",
       "213  s528       shape_matching  288.666667\n",
       "214  s541       shape_matching  198.500000\n",
       "215  s548       shape_matching  305.416667\n",
       "216  s560       shape_matching  280.916667\n",
       "\n",
       "[217 rows x 3 columns]"
      ]
     },
     "execution_count": 11,
     "metadata": {},
     "output_type": "execute_result"
    }
   ],
   "source": [
    "melted_SSRTs = SSRTs_taskMeaned.reset_index().melt(id_vars='ID')\n",
    "melted_SSRTs"
   ]
  },
  {
   "cell_type": "code",
   "execution_count": 12,
   "metadata": {},
   "outputs": [
    {
     "data": {
      "text/html": [
       "<div>\n",
       "<style scoped>\n",
       "    .dataframe tbody tr th:only-of-type {\n",
       "        vertical-align: middle;\n",
       "    }\n",
       "\n",
       "    .dataframe tbody tr th {\n",
       "        vertical-align: top;\n",
       "    }\n",
       "\n",
       "    .dataframe thead th {\n",
       "        text-align: right;\n",
       "    }\n",
       "</style>\n",
       "<table border=\"1\" class=\"dataframe\">\n",
       "  <thead>\n",
       "    <tr style=\"text-align: right;\">\n",
       "      <th></th>\n",
       "      <th>Source</th>\n",
       "      <th>SS</th>\n",
       "      <th>DF</th>\n",
       "      <th>MS</th>\n",
       "      <th>F</th>\n",
       "      <th>p-unc</th>\n",
       "      <th>p-GG-corr</th>\n",
       "      <th>np2</th>\n",
       "      <th>eps</th>\n",
       "      <th>sphericity</th>\n",
       "      <th>W-spher</th>\n",
       "      <th>p-spher</th>\n",
       "    </tr>\n",
       "  </thead>\n",
       "  <tbody>\n",
       "    <tr>\n",
       "      <th>0</th>\n",
       "      <td>variable</td>\n",
       "      <td>288913.843232</td>\n",
       "      <td>6</td>\n",
       "      <td>48152.307205</td>\n",
       "      <td>34.753595</td>\n",
       "      <td>1.039136e-27</td>\n",
       "      <td>3.682862e-19</td>\n",
       "      <td>0.536705</td>\n",
       "      <td>0.662985</td>\n",
       "      <td>False</td>\n",
       "      <td>0.178864</td>\n",
       "      <td>0.000482</td>\n",
       "    </tr>\n",
       "    <tr>\n",
       "      <th>1</th>\n",
       "      <td>Error</td>\n",
       "      <td>249396.223688</td>\n",
       "      <td>180</td>\n",
       "      <td>1385.534576</td>\n",
       "      <td>NaN</td>\n",
       "      <td>NaN</td>\n",
       "      <td>NaN</td>\n",
       "      <td>NaN</td>\n",
       "      <td>NaN</td>\n",
       "      <td>NaN</td>\n",
       "      <td>NaN</td>\n",
       "      <td>NaN</td>\n",
       "    </tr>\n",
       "  </tbody>\n",
       "</table>\n",
       "</div>"
      ],
      "text/plain": [
       "     Source             SS   DF            MS          F         p-unc  \\\n",
       "0  variable  288913.843232    6  48152.307205  34.753595  1.039136e-27   \n",
       "1     Error  249396.223688  180   1385.534576        NaN           NaN   \n",
       "\n",
       "      p-GG-corr       np2       eps sphericity   W-spher   p-spher  \n",
       "0  3.682862e-19  0.536705  0.662985      False  0.178864  0.000482  \n",
       "1           NaN       NaN       NaN        NaN       NaN       NaN  "
      ]
     },
     "execution_count": 12,
     "metadata": {},
     "output_type": "execute_result"
    }
   ],
   "source": [
    "anova_res = pg.rm_anova(data=melted_SSRTs, dv='value', within='variable', subject='ID', detailed=True)\n",
    "anova_res"
   ]
  },
  {
   "cell_type": "markdown",
   "metadata": {},
   "source": [
    "## Planned Contrasts\n",
    "\n",
    "Guidelines from [here](http://web.pdx.edu/~newsomj/uvclass/ho_planned%20contrasts.pdf)"
   ]
  },
  {
   "cell_type": "code",
   "execution_count": 13,
   "metadata": {},
   "outputs": [],
   "source": [
    "df = anova_res.loc[anova_res.Source=='Error', 'DF'].values[0]"
   ]
  },
  {
   "cell_type": "code",
   "execution_count": 14,
   "metadata": {},
   "outputs": [
    {
     "data": {
      "text/plain": [
       "9.454592930776158"
      ]
     },
     "execution_count": 14,
     "metadata": {},
     "output_type": "execute_result"
    }
   ],
   "source": [
    "MS = anova_res.loc[anova_res.Source=='Error', 'MS'].values[0]\n",
    "std_err = np.sqrt(MS * (2/len(SSRTs)))\n",
    "std_err"
   ]
  },
  {
   "cell_type": "code",
   "execution_count": 15,
   "metadata": {},
   "outputs": [
    {
     "name": "stdout",
     "output_type": "stream",
     "text": [
      "directed_forgetting: Mean=113.67, t=12.023, p=0.000000, d=1.84\n",
      "n_back: Mean=35.91, t=3.798, p=0.000100, d=0.57\n",
      "cued_task_switching: Mean=15.36, t=1.624, p=0.053041, d=0.30\n",
      "shape_matching: Mean=34.85, t=3.686, p=0.000151, d=1.01\n"
     ]
    }
   ],
   "source": [
    "for task in ['directed_forgetting', 'n_back', 'cued_task_switching', 'shape_matching']:\n",
    "    diff = np.mean(SSRTs_taskMeaned.filter(regex=task).values - SSRTs_taskMeaned.filter(regex='SE').values)\n",
    "    t = diff/std_err\n",
    "    pval = stats.t.sf(t, df) \n",
    "    print(f'{task}: Mean={diff:.2f}, t={t:.3f}, p={pval:.6f}, d={diff/ np.std(SSRTs_taskMeaned.filter(regex=task).values - SSRTs_taskMeaned.filter(regex=\"SE\").values):.2f}')"
   ]
  },
  {
   "cell_type": "markdown",
   "metadata": {},
   "source": [
    "## Planned related-samples t-test for n-Back load"
   ]
  },
  {
   "cell_type": "code",
   "execution_count": 16,
   "metadata": {},
   "outputs": [],
   "source": [
    "diff_SSRTs = SSRTs.sub(SSRTs.filter(regex='SE').values)\n",
    "del diff_SSRTs['SE_SSRT']"
   ]
  },
  {
   "cell_type": "code",
   "execution_count": 17,
   "metadata": {},
   "outputs": [
    {
     "name": "stdout",
     "output_type": "stream",
     "text": [
      "n-Back DE > DC: Mean=26.16, t=2.277, p=0.015052, d=0.42\n"
     ]
    }
   ],
   "source": [
    "t, pval = stats.ttest_rel(diff_SSRTs.n_back_DE_SSRT.values, diff_SSRTs.n_back_DC_SSRT.values, nan_policy='raise', alternative='greater')\n",
    "diff_vals = diff_SSRTs.n_back_DE_SSRT.values - diff_SSRTs.n_back_DC_SSRT.values\n",
    "print(f'n-Back DE > DC: Mean={np.mean(diff_vals):.2f}, t={t:.3f}, p={pval:.6f}, d={np.mean(diff_vals)/np.std(diff_vals):.2}')"
   ]
  },
  {
   "cell_type": "markdown",
   "metadata": {},
   "source": [
    "# Visualize"
   ]
  },
  {
   "cell_type": "code",
   "execution_count": 18,
   "metadata": {},
   "outputs": [],
   "source": [
    "formal_tasks = {\n",
    "    'All': 'All',\n",
    "    'single_task': 'Single Task',\n",
    "    'go_no_go': 'Go/No-Go',\n",
    "    'predictable_task_switching': 'Predictable Task Switching',\n",
    "    'cued_task_switching': 'Cued Task Switching',\n",
    "    'flanker': 'Flanker',\n",
    "    'shape_matching': 'Shape Matching',\n",
    "    'n_back': 'n-Back',\n",
    "    'directed_forgetting': 'Directed Forgetting' \n",
    "}"
   ]
  },
  {
   "cell_type": "code",
   "execution_count": 19,
   "metadata": {},
   "outputs": [],
   "source": [
    "sns.set(style=\"whitegrid\", palette=\"colorblind\", color_codes=True)\n",
    "palette ={\"DC\":\"C0\", \"DE\":\"C1\", \"SE\":\"C2\"}\n",
    "order_dict = {\n",
    "    'SE': 'aa',\n",
    "    'go_no_go': 'ab',\n",
    "    'predictable_task_switching': 'ba',\n",
    "    'cued_task_switching': 'bb',\n",
    "    'flanker': 'ca',\n",
    "    'shape_matching': 'cb',\n",
    "    'n_back': 'da',\n",
    "    'directed_forgetting': 'db'\n",
    "}\n",
    "\n",
    "def context_str(string):\n",
    "    if 'DC' in string:\n",
    "        return 'DC'\n",
    "    elif 'DE' in string:\n",
    "        return 'DE'\n",
    "    elif 'SE' in string:\n",
    "        return 'SE'\n",
    "    elif 'OTHER' in string:\n",
    "        return 'POS/3BACK/DSD|SSS/CUE_SWITCH'\n",
    "    else:\n",
    "        return 'COMBINE'"
   ]
  },
  {
   "cell_type": "code",
   "execution_count": 20,
   "metadata": {},
   "outputs": [],
   "source": [
    "melted_diffs = diff_SSRTs.reset_index().melt(id_vars='ID', value_name='Dual Task SSRT - Single Task SSRT')\n",
    "melted_diffs['Task'] = [i.split('_SSRT')[0].replace('_DC', '').replace('_DE', '') for i in melted_diffs['variable']]\n",
    "melted_diffs['Trial Type'] = [context_str(i) for i in melted_diffs['variable']]\n",
    "melted_diffs.loc[melted_diffs['Task']=='SE', 'context'] = 'SE'\n",
    "\n",
    "melted_diffs['order'] = melted_diffs['Task'].map(order_dict)\n",
    "melted_diffs = melted_diffs.sort_values(['order', 'Trial Type'])\n",
    "melted_diffs['Task'] = melted_diffs['Task'].map(formal_tasks)"
   ]
  },
  {
   "cell_type": "code",
   "execution_count": 21,
   "metadata": {},
   "outputs": [
    {
     "data": {
      "image/png": "[encoded data removed]",
      "text/plain": [
       "<Figure size 864x432 with 1 Axes>"
      ]
     },
     "metadata": {},
     "output_type": "display_data"
    }
   ],
   "source": [
    "fig = plt.figure(figsize=(12,6))\n",
    "\n",
    "bar = sns.barplot(x='Task', y='Dual Task SSRT - Single Task SSRT', hue='Trial Type', data=melted_diffs, palette=palette)\n",
    "plt.legend(prop={'weight': 'bold'})\n",
    "\n",
    "_ = plt.xticks(rotation=31, ha='right', fontweight='bold', fontsize='11')\n",
    "_ = plt.yticks(fontweight='bold', fontsize='12')\n",
    "\n",
    "bar.set_xlabel('Dual Task', fontsize = 18, fontweight='bold')\n",
    "bar.set_ylabel('Dual Task SSRT - Single Task SSRT', fontsize = 16, fontweight='bold')\n",
    "\n",
    "lowx, highx = plt.xlim()\n",
    "plt.plot([lowx, highx],[0,0],color='k',linestyle=':',linewidth=3)\n",
    "plt.title('Interference of SSRTs in Dual Task Conditions', fontsize='18', fontweight='bold')\n",
    "plt.tight_layout()\n",
    "lowy, highy = plt.ylim()\n",
    "_ = plt.axis([lowx, highx, lowy, highy])\n",
    "plt.savefig(f'figures/dataset-{dataset}_metric-SSRT_barplot.png', dpi=300)\n",
    "plt.show()\n",
    "plt.close()"
   ]
  },
  {
   "cell_type": "markdown",
   "metadata": {},
   "source": [
    "# Repetitions with Exclusions"
   ]
  },
  {
   "cell_type": "code",
   "execution_count": 22,
   "metadata": {},
   "outputs": [],
   "source": [
    "def pipeline(SSRTs, strip_str=''):\n",
    "    SSRTs = SSRTs.copy()\n",
    "    SSRTs.columns = [c.replace(strip_str, '') for c in SSRTs.columns]\n",
    "    \n",
    "    old_nSubs = len(SSRTs)\n",
    "    SSRTs = SSRTs.dropna()\n",
    "    new_nSubs = len(SSRTs)\n",
    "    print(f'{old_nSubs-new_nSubs} subs dropped for nan cell')\n",
    "\n",
    "    # One-way ANOVA\n",
    "    SSRTs_taskMeaned = pd.DataFrame()\n",
    "    for task_name in stop_data_dict.keys():\n",
    "        short_name = task_name.split('_with_')[-1]\n",
    "        if short_name == 'stop_signal_single_task_network':\n",
    "            SSRTs_taskMeaned['SE'] = SSRTs.filter(regex='SE')\n",
    "        else:\n",
    "            SSRTs_taskMeaned[short_name] = SSRTs.filter(regex=short_name).mean(1)\n",
    "    melted_SSRTs = SSRTs_taskMeaned.reset_index().melt(id_vars='ID')\n",
    "    anova_res = pg.rm_anova(data=melted_SSRTs, dv='value', within='variable', subject='ID', detailed=True)\n",
    "    display(anova_res)\n",
    "\n",
    "    # Planned Contrasts\n",
    "    planned_tasks = ['directed_forgetting', 'n_back', 'cued_task_switching', 'shape_matching']\n",
    "    out_df = pd.DataFrame(index=planned_tasks + ['n_back: DE > DC'], columns=['mean', 't', 'p', 'd'])\n",
    "    df = anova_res.loc[anova_res.Source=='Error', 'DF'].values[0]\n",
    "    MS = anova_res.loc[anova_res.Source=='Error', 'MS'].values[0]\n",
    "    std_err = np.sqrt(MS * (2/len(SSRTs)))\n",
    "    for task in planned_tasks:\n",
    "        diffs = (SSRTs_taskMeaned.filter(regex=task).values - SSRTs_taskMeaned.filter(regex='SE').values)\n",
    "        t = np.mean(diffs)/std_err\n",
    "        pval = stats.t.sf(t, df) \n",
    "        print(f'{task}: Mean={diff:.2f}, t={t:.3f}, p={pval:.6f}, d={np.mean(diffs)/np.std(diffs):.2f}')\n",
    "        out_df.loc[task, ['mean', 't', 'p', 'd']] = np.mean(diffs), t, pval, np.mean(diffs)/np.std(diffs)\n",
    "\n",
    "    # n-Back t-test\n",
    "    diff_SSRTs = SSRTs.sub(SSRTs.filter(regex='SE').values)\n",
    "    del diff_SSRTs['SE_SSRT']\n",
    "    \n",
    "    diffs = (diff_SSRTs.n_back_DE_SSRT.values - diff_SSRTs.n_back_DC_SSRT.values)\n",
    "    t, pval = stats.ttest_rel(diff_SSRTs.n_back_DE_SSRT.values, diff_SSRTs.n_back_DC_SSRT.values, nan_policy='raise', alternative='greater')\n",
    "    print(f'n-Back DE > DC: Mean={np.mean(diffs):.2f}, t={t:.3f}, p={pval:.6f}, d={np.mean(diffs)/np.std(diffs):.2f}')\n",
    "    out_df.loc['n_back: DE > DC', ['mean', 't', 'p', 'd']] = np.mean(diffs), t, pval, np.mean(diffs)/np.std(diffs)\n",
    "\n",
    "    # Visualization\n",
    "    melted_diffs = diff_SSRTs.reset_index().melt(id_vars='ID', value_name='Dual Task SSRT - Single Task SSRT')\n",
    "    melted_diffs['Task'] = [i.split('_SSRT')[0].replace('_DC', '').replace('_DE', '') for i in melted_diffs['variable']]\n",
    "    melted_diffs['Trial Type'] = [context_str(i) for i in melted_diffs['variable']]\n",
    "    melted_diffs.loc[melted_diffs['Task']=='SE', 'context'] = 'SE'\n",
    "\n",
    "    melted_diffs['order'] = melted_diffs['Task'].map(order_dict)\n",
    "    melted_diffs = melted_diffs.sort_values(['order', 'Trial Type'])\n",
    "    melted_diffs['Task'] = melted_diffs['Task'].map(formal_tasks)\n",
    "    \n",
    "    fig = plt.figure(figsize=(12,6))\n",
    "    bar = sns.barplot(x='Task', y='Dual Task SSRT - Single Task SSRT', hue='Trial Type', data=melted_diffs, palette=palette)\n",
    "    plt.legend(prop={'weight': 'bold'})\n",
    "    _ = plt.xticks(rotation=31, ha='right', fontweight='bold', fontsize='11')\n",
    "    _ = plt.yticks(fontweight='bold', fontsize='12')\n",
    "    bar.set_xlabel('Dual Task', fontsize = 18, fontweight='bold')\n",
    "    bar.set_ylabel('Dual Task SSRT - Single Task SSRT', fontsize = 16, fontweight='bold')\n",
    "\n",
    "    lowx, highx = plt.xlim()\n",
    "    plt.plot([lowx, highx],[0,0],color='k',linestyle=':',linewidth=2)\n",
    "    plt.title('Interference of SSRTs in Dual Task Conditions', fontsize='x-large')\n",
    "    plt.tight_layout()\n",
    "    lowy, highy = plt.ylim()\n",
    "    _ = plt.axis([lowx, highx, lowy, highy])\n",
    "    plt.show()\n",
    "    plt.close()\n",
    "    return out_df"
   ]
  },
  {
   "cell_type": "markdown",
   "metadata": {},
   "source": [
    "# Exclude Short SSD trials"
   ]
  },
  {
   "cell_type": "code",
   "execution_count": 23,
   "metadata": {},
   "outputs": [
    {
     "name": "stdout",
     "output_type": "stream",
     "text": [
      "7 subs dropped for nan cell\n"
     ]
    },
    {
     "data": {
      "text/html": [
       "<div>\n",
       "<style scoped>\n",
       "    .dataframe tbody tr th:only-of-type {\n",
       "        vertical-align: middle;\n",
       "    }\n",
       "\n",
       "    .dataframe tbody tr th {\n",
       "        vertical-align: top;\n",
       "    }\n",
       "\n",
       "    .dataframe thead th {\n",
       "        text-align: right;\n",
       "    }\n",
       "</style>\n",
       "<table border=\"1\" class=\"dataframe\">\n",
       "  <thead>\n",
       "    <tr style=\"text-align: right;\">\n",
       "      <th></th>\n",
       "      <th>Source</th>\n",
       "      <th>SS</th>\n",
       "      <th>DF</th>\n",
       "      <th>MS</th>\n",
       "      <th>F</th>\n",
       "      <th>p-unc</th>\n",
       "      <th>p-GG-corr</th>\n",
       "      <th>np2</th>\n",
       "      <th>eps</th>\n",
       "      <th>sphericity</th>\n",
       "      <th>W-spher</th>\n",
       "      <th>p-spher</th>\n",
       "    </tr>\n",
       "  </thead>\n",
       "  <tbody>\n",
       "    <tr>\n",
       "      <th>0</th>\n",
       "      <td>variable</td>\n",
       "      <td>40237.252607</td>\n",
       "      <td>6</td>\n",
       "      <td>6706.208768</td>\n",
       "      <td>4.509974</td>\n",
       "      <td>0.000313</td>\n",
       "      <td>0.002045</td>\n",
       "      <td>0.152829</td>\n",
       "      <td>0.676243</td>\n",
       "      <td>False</td>\n",
       "      <td>0.187343</td>\n",
       "      <td>0.008991</td>\n",
       "    </tr>\n",
       "    <tr>\n",
       "      <th>1</th>\n",
       "      <td>Error</td>\n",
       "      <td>223045.911874</td>\n",
       "      <td>150</td>\n",
       "      <td>1486.972746</td>\n",
       "      <td>NaN</td>\n",
       "      <td>NaN</td>\n",
       "      <td>NaN</td>\n",
       "      <td>NaN</td>\n",
       "      <td>NaN</td>\n",
       "      <td>NaN</td>\n",
       "      <td>NaN</td>\n",
       "      <td>NaN</td>\n",
       "    </tr>\n",
       "  </tbody>\n",
       "</table>\n",
       "</div>"
      ],
      "text/plain": [
       "     Source             SS   DF           MS         F     p-unc  p-GG-corr  \\\n",
       "0  variable   40237.252607    6  6706.208768  4.509974  0.000313   0.002045   \n",
       "1     Error  223045.911874  150  1486.972746       NaN       NaN        NaN   \n",
       "\n",
       "        np2       eps sphericity   W-spher   p-spher  \n",
       "0  0.152829  0.676243      False  0.187343  0.008991  \n",
       "1       NaN       NaN        NaN       NaN       NaN  "
      ]
     },
     "metadata": {},
     "output_type": "display_data"
    },
    {
     "name": "stdout",
     "output_type": "stream",
     "text": [
      "directed_forgetting: Mean=34.85, t=3.466, p=0.000345, d=0.62\n",
      "n_back: Mean=34.85, t=2.385, p=0.009157, d=0.41\n",
      "cued_task_switching: Mean=34.85, t=1.465, p=0.072474, d=0.28\n",
      "shape_matching: Mean=34.85, t=3.260, p=0.000689, d=0.91\n",
      "n-Back DE > DC: Mean=5.14, t=0.255, p=0.400413, d=0.05\n"
     ]
    },
    {
     "data": {
      "image/png": "[encoded data removed]",
      "text/plain": [
       "<Figure size 864x432 with 1 Axes>"
      ]
     },
     "metadata": {},
     "output_type": "display_data"
    }
   ],
   "source": [
    "thresh_SSD_tests = pipeline(SSRTs_ThreshSSDs, strip_str='_wThresh_SSDs')"
   ]
  },
  {
   "cell_type": "code",
   "execution_count": 24,
   "metadata": {},
   "outputs": [],
   "source": [
    "thresh_SSD_tests.to_csv(f'result_csvs/dataset-{dataset}_metric-SSRT_wThresh_SSDs_tests-validationContrasts.csv')"
   ]
  },
  {
   "cell_type": "markdown",
   "metadata": {},
   "source": [
    "# Exclude Short SSD subjects"
   ]
  },
  {
   "cell_type": "code",
   "execution_count": 25,
   "metadata": {},
   "outputs": [
    {
     "name": "stdout",
     "output_type": "stream",
     "text": [
      "22 subs dropped for nan cell\n"
     ]
    },
    {
     "data": {
      "text/html": [
       "<div>\n",
       "<style scoped>\n",
       "    .dataframe tbody tr th:only-of-type {\n",
       "        vertical-align: middle;\n",
       "    }\n",
       "\n",
       "    .dataframe tbody tr th {\n",
       "        vertical-align: top;\n",
       "    }\n",
       "\n",
       "    .dataframe thead th {\n",
       "        text-align: right;\n",
       "    }\n",
       "</style>\n",
       "<table border=\"1\" class=\"dataframe\">\n",
       "  <thead>\n",
       "    <tr style=\"text-align: right;\">\n",
       "      <th></th>\n",
       "      <th>Source</th>\n",
       "      <th>SS</th>\n",
       "      <th>DF</th>\n",
       "      <th>MS</th>\n",
       "      <th>F</th>\n",
       "      <th>p-unc</th>\n",
       "      <th>p-GG-corr</th>\n",
       "      <th>np2</th>\n",
       "      <th>eps</th>\n",
       "      <th>sphericity</th>\n",
       "      <th>W-spher</th>\n",
       "      <th>p-spher</th>\n",
       "    </tr>\n",
       "  </thead>\n",
       "  <tbody>\n",
       "    <tr>\n",
       "      <th>0</th>\n",
       "      <td>variable</td>\n",
       "      <td>59893.475178</td>\n",
       "      <td>6</td>\n",
       "      <td>9982.245863</td>\n",
       "      <td>9.292882</td>\n",
       "      <td>3.381992e-07</td>\n",
       "      <td>0.000141</td>\n",
       "      <td>0.481674</td>\n",
       "      <td>0.514028</td>\n",
       "      <td>False</td>\n",
       "      <td>0.008501</td>\n",
       "      <td>0.016836</td>\n",
       "    </tr>\n",
       "    <tr>\n",
       "      <th>1</th>\n",
       "      <td>Error</td>\n",
       "      <td>64450.915355</td>\n",
       "      <td>60</td>\n",
       "      <td>1074.181923</td>\n",
       "      <td>NaN</td>\n",
       "      <td>NaN</td>\n",
       "      <td>NaN</td>\n",
       "      <td>NaN</td>\n",
       "      <td>NaN</td>\n",
       "      <td>NaN</td>\n",
       "      <td>NaN</td>\n",
       "      <td>NaN</td>\n",
       "    </tr>\n",
       "  </tbody>\n",
       "</table>\n",
       "</div>"
      ],
      "text/plain": [
       "     Source            SS  DF           MS         F         p-unc  p-GG-corr  \\\n",
       "0  variable  59893.475178   6  9982.245863  9.292882  3.381992e-07   0.000141   \n",
       "1     Error  64450.915355  60  1074.181923       NaN           NaN        NaN   \n",
       "\n",
       "        np2       eps sphericity   W-spher   p-spher  \n",
       "0  0.481674  0.514028      False  0.008501  0.016836  \n",
       "1       NaN       NaN        NaN       NaN       NaN  "
      ]
     },
     "metadata": {},
     "output_type": "display_data"
    },
    {
     "name": "stdout",
     "output_type": "stream",
     "text": [
      "directed_forgetting: Mean=34.85, t=6.170, p=0.000000, d=1.79\n",
      "n_back: Mean=34.85, t=1.974, p=0.026519, d=0.50\n",
      "cued_task_switching: Mean=34.85, t=0.319, p=0.375513, d=0.09\n",
      "shape_matching: Mean=34.85, t=2.071, p=0.021345, d=1.35\n",
      "n-Back DE > DC: Mean=29.86, t=1.124, p=0.143609, d=0.36\n"
     ]
    },
    {
     "data": {
      "image/png": "[encoded data removed]",
      "text/plain": [
       "<Figure size 864x432 with 1 Axes>"
      ]
     },
     "metadata": {},
     "output_type": "display_data"
    }
   ],
   "source": [
    "thresh_subs_tests = pipeline(SSRTs_ThreshSubs, strip_str='_wThresh_subs')"
   ]
  },
  {
   "cell_type": "code",
   "execution_count": 26,
   "metadata": {},
   "outputs": [],
   "source": [
    "thresh_subs_tests.to_csv(f'result_csvs/dataset-{dataset}_metric-SSRT_wThresh_subs_tests-validationContrasts.csv')"
   ]
  },
  {
   "cell_type": "code",
   "execution_count": null,
   "metadata": {},
   "outputs": [],
   "source": []
  }
 ],
 "metadata": {
  "kernelspec": {
   "display_name": "Python 3",
   "language": "python",
   "name": "python3"
  },
  "language_info": {
   "codemirror_mode": {
    "name": "ipython",
    "version": 3
   },
   "file_extension": ".py",
   "mimetype": "text/x-python",
   "name": "python",
   "nbconvert_exporter": "python",
   "pygments_lexer": "ipython3",
   "version": "3.7.3"
  }
 },
 "nbformat": 4,
 "nbformat_minor": 4
}
